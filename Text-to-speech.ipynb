{
 "cells": [
  {
   "cell_type": "code",
   "execution_count": 78,
   "metadata": {},
   "outputs": [
    {
     "name": "stdout",
     "output_type": "stream",
     "text": [
      "The World is Planet Earth and all life on it, including human civilization.In a philosophical context, the \"world\" is the whole of the physical Universe, or an ontological world (the \"world\" of an individual). In a theological context, the world is the material or the profane sphere, as opposed to the celestial, spiritual, transcendent or sacred spheres. \"End of the world\" scenarios refer to the end of human history, often in religious contexts.The history of the World is commonly understood as the history of humanity spanning the major geopolitical developments of about five millennia, from the first civilizations to the present. In terms such as world religion, world language, world government, and world war, the term world suggests an international or intercontinental scope without necessarily implying participation of every part of the world.The world population is the sum of all human populations at any time; similarly, the world economy is the sum of the economies of all societies or countries, especially in the context of globalization. Terms such as \"world championship\", \"gross world product\", and \"world flags\" imply the sum or combination of all sovereign states. \n"
     ]
    },
    {
     "data": {
      "text/plain": [
       "32512"
      ]
     },
     "execution_count": 78,
     "metadata": {},
     "output_type": "execute_result"
    }
   ],
   "source": [
    "#pip install gTTS\n",
    "\n",
    "\n",
    "\n",
    "\n",
    "# It speech conversion is defined as Google-text-to-speech\n",
    "from gtts import gTTS \n",
    "\n",
    "# os can play the converted audio \n",
    "import os \n",
    "\n",
    "# The text that you want to convert to audio by text\n",
    "\n",
    "# mytext = 'Welcome to ext to speech converter in python'\n",
    "\n",
    "# This function is used for read from text file\n",
    "\n",
    "f = open(\"/your_location_path_input_file/TextFile.txt\",\"r\")#world text file\n",
    "string = f.read()\n",
    "# it can convert into string\n",
    "mytext = string.replace('\\n', '')\n",
    "\n",
    "#we can print function in output\n",
    "print(mytext)\n",
    "\n",
    "# Language in which you want to convert \n",
    "language = 'en'\n",
    "\n",
    "# Passing the text and language to the engine, \n",
    "# here we have marked slow=False. Which tells \n",
    "# the module that the converted audio should \n",
    "# have a high speed \n",
    "myobj = gTTS(text=mytext, lang=language, slow=False) \n",
    "\n",
    "# Saving the converted audio in a mp3 file named \n",
    "# welcome \n",
    "myobj.save(\"/your_location_savefile/output.mp3\") \n",
    "\n",
    "# Playing the converted file \n",
    "os.system(\"output.mp3\") \n"
   ]
  },
  {
   "cell_type": "code",
   "execution_count": null,
   "metadata": {},
   "outputs": [],
   "source": []
  }
 ],
 "metadata": {
  "kernelspec": {
   "display_name": "Python 3",
   "language": "python",
   "name": "python3"
  },
  "language_info": {
   "codemirror_mode": {
    "name": "ipython",
    "version": 3
   },
   "file_extension": ".py",
   "mimetype": "text/x-python",
   "name": "python",
   "nbconvert_exporter": "python",
   "pygments_lexer": "ipython3",
   "version": "3.7.3"
  }
 },
 "nbformat": 4,
 "nbformat_minor": 4
}
